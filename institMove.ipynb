{
 "cells": [
  {
   "cell_type": "code",
   "execution_count": null,
   "metadata": {},
   "outputs": [],
   "source": [
    "### MAIN\n",
    "import institMove.institMovePgk\n",
    "mf = institMove.institMovePgk.mf_movement()\n",
    "mf.output_signal()\n",
    "df = mf.yahoo_api() \n",
    "df = mf.differences(df) \n",
    "df = mf.cmf(df) \n",
    "df1 = mf.cmf_stats(df)\n",
    "df2 = mf.sub_grouping(df1)\n",
    "mf.summary_plot(df2)\n",
    "mf.smoothing(df2)\n",
    "mf.pearson_spearman_corr(df2)\n"
   ]
  }
 ],
 "metadata": {
  "kernelspec": {
   "display_name": "Python 3",
   "language": "python",
   "name": "python3"
  },
  "language_info": {
   "codemirror_mode": {
    "name": "ipython",
    "version": 3
   },
   "file_extension": ".py",
   "mimetype": "text/x-python",
   "name": "python",
   "nbconvert_exporter": "python",
   "pygments_lexer": "ipython3",
   "version": "3.7.4"
  }
 },
 "nbformat": 4,
 "nbformat_minor": 2
}
