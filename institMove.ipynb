#### Main ####

import institMove.institMovePgk
mf = institMove.institMovePgk.mf_movement()
mf.output_signal()
df = mf.yahoo_api() 
df = mf.differences(df) 
df = mf.cmf(df) 
df1 = mf.cmf_stats(df)
df2 = mf.sub_grouping(df1)
mf.summary_plot(df2)
mf.smoothing(df2)
mf.pearson_spearman_corr(df2)
